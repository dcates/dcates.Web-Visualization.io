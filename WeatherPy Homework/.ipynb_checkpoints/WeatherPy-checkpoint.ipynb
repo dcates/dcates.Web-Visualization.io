{
 "cells": [
  {
   "cell_type": "code",
   "execution_count": 1,
   "metadata": {},
   "outputs": [],
   "source": [
    "# Dependencies\n",
    "import openweathermapy.core as owm\n",
    "import random\n",
    "import json\n",
    "import requests\n",
    "import pandas as pd\n",
    "import matplotlib.pyplot as plt\n",
    "from citipy import citipy\n",
    "from config import api_key"
   ]
  },
  {
   "cell_type": "code",
   "execution_count": 2,
   "metadata": {},
   "outputs": [],
   "source": [
    "# Create random indices representing\n",
    "# a user's choice of posts\n",
    "lat = random.sample(list(range(-90, 90)), 6)\n",
    "lat\n",
    "lon = random.sample(list(range(-180, 180)), 6)\n",
    "lon\n",
    "latlon = tuple(zip(lat, lon))\n"
   ]
  },
  {
   "cell_type": "code",
   "execution_count": 3,
   "metadata": {},
   "outputs": [],
   "source": [
    "citipycities = []\n",
    "for coordinate_pair in latlon:\n",
    "    lat, lon = coordinate_pair\n",
    "    citipycities.append(citipy.nearest_city(lat, lon))\n",
    "#citipycities"
   ]
  },
  {
   "cell_type": "code",
   "execution_count": 4,
   "metadata": {},
   "outputs": [],
   "source": [
    "cities = []\n",
    "for city in citipycities:\n",
    "    cities.append(city.city_name)\n",
    "#cities"
   ]
  },
  {
   "cell_type": "code",
   "execution_count": 5,
   "metadata": {
    "scrolled": true
   },
   "outputs": [],
   "source": [
    "#for city in cities:\n",
    "#    country_code = city.country_code\n",
    "#    name = city.city_name\n",
    "#    print(f\"The country code of {name} is '{country_code}'.\")\n",
    "    \n",
    "#country_code"
   ]
  },
  {
   "cell_type": "code",
   "execution_count": 6,
   "metadata": {},
   "outputs": [],
   "source": [
    "# Save config information.\n",
    "url = \"http://api.openweathermap.org/data/2.5/weather?\"\n",
    "units = \"metric\"\n",
    "\n",
    "# Build partial query URL\n",
    "query_url = f\"{url}appid={api_key}&units={units}&q=\""
   ]
  },
  {
   "cell_type": "code",
   "execution_count": 7,
   "metadata": {},
   "outputs": [
    {
     "name": "stdout",
     "output_type": "stream",
     "text": [
      "The latitude information received is: [-24.14, -0.92, 37.17, 15.34, -33.21, -33.21]\n",
      "The temperature F information received is: [9.38, 26.88, 13.08, 25.28, 28.38, 28.38]\n",
      "The Humidity % information received is: [58, 100, 28, 92, 26, 26]\n",
      "The cloudiness % information received is: [0, 64, 32, 56, 48, 48]\n",
      "The windspeed mph information received is: [1.24, 0.36, 5.86, 1.81, 3.64, 3.64]\n",
      "The country code information received is: ['NA', 'ID', 'US', 'IN', 'AU', 'AU']\n",
      "The date of pull information received is: [1524194101, 1524194101, 1524194102, 1524194102, 1524193889, 1524193889]\n",
      "The longitude information received is: [19.11, 100.36, -99.65, 74.49, 138.6, 138.6]\n",
      "The max temp information received is: [9.38, 26.88, 13.08, 25.28, 28.38, 28.38]\n"
     ]
    }
   ],
   "source": [
    "#cities = [\"dikson\", \"arraial do cabo\", \"bonthe \", \"punta arenas\"]\n",
    "\n",
    "# set up lists to hold reponse info\n",
    "lat = []\n",
    "temp = []\n",
    "hum = []\n",
    "cloud = []\n",
    "wind = []\n",
    "cntry = []\n",
    "date = []\n",
    "lng = []\n",
    "mxtemp = []\n",
    "\n",
    "\n",
    "# Loop through the list of cities and perform a request for data on each\n",
    "for city in cities:\n",
    "    response = requests.get(query_url + city).json()\n",
    "    lat.append(response['coord']['lat'])\n",
    "    temp.append(response['main']['temp'])\n",
    "    hum.append(response['main']['humidity'])\n",
    "    cloud.append(response['clouds']['all'])\n",
    "    wind.append(response['wind']['speed'])\n",
    "    cntry.append(response['sys']['country'])\n",
    "    date.append(response['dt'])\n",
    "    lng.append(response['coord']['lon'])\n",
    "    mxtemp.append(response['main']['temp_max'])\n",
    "\n",
    "print(f\"The latitude information received is: {lat}\")\n",
    "print(f\"The temperature F information received is: {temp}\")\n",
    "print(f\"The Humidity % information received is: {hum}\")\n",
    "print(f\"The cloudiness % information received is: {cloud}\")\n",
    "print(f\"The windspeed mph information received is: {wind}\")\n",
    "print(f\"The country code information received is: {cntry}\")\n",
    "print(f\"The date of pull information received is: {date}\")\n",
    "print(f\"The longitude information received is: {lng}\")\n",
    "print(f\"The max temp information received is: {mxtemp}\")"
   ]
  },
  {
   "cell_type": "code",
   "execution_count": 13,
   "metadata": {},
   "outputs": [
    {
     "data": {
      "text/html": [
       "<div>\n",
       "<style scoped>\n",
       "    .dataframe tbody tr th:only-of-type {\n",
       "        vertical-align: middle;\n",
       "    }\n",
       "\n",
       "    .dataframe tbody tr th {\n",
       "        vertical-align: top;\n",
       "    }\n",
       "\n",
       "    .dataframe thead th {\n",
       "        text-align: right;\n",
       "    }\n",
       "</style>\n",
       "<table border=\"1\" class=\"dataframe\">\n",
       "  <thead>\n",
       "    <tr style=\"text-align: right;\">\n",
       "      <th></th>\n",
       "      <th>City</th>\n",
       "      <th>Cloudiness</th>\n",
       "      <th>Country</th>\n",
       "      <th>Date</th>\n",
       "      <th>Humidity</th>\n",
       "      <th>Lat</th>\n",
       "      <th>Lng</th>\n",
       "      <th>Max Temp</th>\n",
       "      <th>Temp</th>\n",
       "      <th>Wind Speed</th>\n",
       "    </tr>\n",
       "  </thead>\n",
       "  <tbody>\n",
       "    <tr>\n",
       "      <th>0</th>\n",
       "      <td>aranos</td>\n",
       "      <td>0</td>\n",
       "      <td>NA</td>\n",
       "      <td>1524194101</td>\n",
       "      <td>58</td>\n",
       "      <td>-24.14</td>\n",
       "      <td>19.11</td>\n",
       "      <td>9.38</td>\n",
       "      <td>9.38</td>\n",
       "      <td>1.24</td>\n",
       "    </tr>\n",
       "    <tr>\n",
       "      <th>1</th>\n",
       "      <td>padang</td>\n",
       "      <td>64</td>\n",
       "      <td>ID</td>\n",
       "      <td>1524194101</td>\n",
       "      <td>100</td>\n",
       "      <td>-0.92</td>\n",
       "      <td>100.36</td>\n",
       "      <td>26.88</td>\n",
       "      <td>26.88</td>\n",
       "      <td>0.36</td>\n",
       "    </tr>\n",
       "    <tr>\n",
       "      <th>2</th>\n",
       "      <td>sitka</td>\n",
       "      <td>32</td>\n",
       "      <td>US</td>\n",
       "      <td>1524194102</td>\n",
       "      <td>28</td>\n",
       "      <td>37.17</td>\n",
       "      <td>-99.65</td>\n",
       "      <td>13.08</td>\n",
       "      <td>13.08</td>\n",
       "      <td>5.86</td>\n",
       "    </tr>\n",
       "    <tr>\n",
       "      <th>3</th>\n",
       "      <td>vaini</td>\n",
       "      <td>56</td>\n",
       "      <td>IN</td>\n",
       "      <td>1524194102</td>\n",
       "      <td>92</td>\n",
       "      <td>15.34</td>\n",
       "      <td>74.49</td>\n",
       "      <td>25.28</td>\n",
       "      <td>25.28</td>\n",
       "      <td>1.81</td>\n",
       "    </tr>\n",
       "    <tr>\n",
       "      <th>4</th>\n",
       "      <td>jamestown</td>\n",
       "      <td>48</td>\n",
       "      <td>AU</td>\n",
       "      <td>1524193889</td>\n",
       "      <td>26</td>\n",
       "      <td>-33.21</td>\n",
       "      <td>138.60</td>\n",
       "      <td>28.38</td>\n",
       "      <td>28.38</td>\n",
       "      <td>3.64</td>\n",
       "    </tr>\n",
       "    <tr>\n",
       "      <th>5</th>\n",
       "      <td>jamestown</td>\n",
       "      <td>48</td>\n",
       "      <td>AU</td>\n",
       "      <td>1524193889</td>\n",
       "      <td>26</td>\n",
       "      <td>-33.21</td>\n",
       "      <td>138.60</td>\n",
       "      <td>28.38</td>\n",
       "      <td>28.38</td>\n",
       "      <td>3.64</td>\n",
       "    </tr>\n",
       "  </tbody>\n",
       "</table>\n",
       "</div>"
      ],
      "text/plain": [
       "        City  Cloudiness Country        Date  Humidity    Lat     Lng  \\\n",
       "0     aranos           0      NA  1524194101        58 -24.14   19.11   \n",
       "1     padang          64      ID  1524194101       100  -0.92  100.36   \n",
       "2      sitka          32      US  1524194102        28  37.17  -99.65   \n",
       "3      vaini          56      IN  1524194102        92  15.34   74.49   \n",
       "4  jamestown          48      AU  1524193889        26 -33.21  138.60   \n",
       "5  jamestown          48      AU  1524193889        26 -33.21  138.60   \n",
       "\n",
       "   Max Temp   Temp  Wind Speed  \n",
       "0      9.38   9.38        1.24  \n",
       "1     26.88  26.88        0.36  \n",
       "2     13.08  13.08        5.86  \n",
       "3     25.28  25.28        1.81  \n",
       "4     28.38  28.38        3.64  \n",
       "5     28.38  28.38        3.64  "
      ]
     },
     "execution_count": 13,
     "metadata": {},
     "output_type": "execute_result"
    }
   ],
   "source": [
    "# create a data frame from cities, lat, and temp\n",
    "weather_dict = {\n",
    "    \"City\": cities,\n",
    "    \"Lat\": lat,\n",
    "    \"Temp\": temp,\n",
    "    \"Humidity\": hum,\n",
    "    \"Cloudiness\" : cloud,\n",
    "    \"Wind Speed\" : wind,\n",
    "    \"Country\" : cntry,\n",
    "    \"Date\" : date,\n",
    "    \"Lng\" : lng,\n",
    "    \"Max Temp\" : mxtemp\n",
    "}\n",
    "weather_data = pd.DataFrame(weather_dict)\n",
    "weather_data"
   ]
  },
  {
   "cell_type": "code",
   "execution_count": 9,
   "metadata": {
    "scrolled": true
   },
   "outputs": [
    {
     "data": {
      "image/png": "[encoded data removed]",
      "text/plain": [
       "<matplotlib.figure.Figure at 0x2bee1fafcf8>"
      ]
     },
     "metadata": {},
     "output_type": "display_data"
    }
   ],
   "source": [
    "#CITY LATITUDE V MAX TEMP\n",
    "# Build a scatter plot for each data type\n",
    "plt.scatter(weather_data[\"Lat\"], weather_data[\"Temp\"], marker=\"o\")\n",
    "\n",
    "# Incorporate the other graph properties\n",
    "plt.title(\"Temperature in World Cities\")\n",
    "plt.ylabel(\"Temperature (Celsius)\")\n",
    "plt.xlabel(\"Latitude\")\n",
    "plt.grid(True)\n",
    "\n",
    "# Save the figure\n",
    "plt.savefig(\"TemperatureInWorldCities.png\")\n",
    "\n",
    "# Show plot\n",
    "plt.show()"
   ]
  },
  {
   "cell_type": "code",
   "execution_count": 10,
   "metadata": {},
   "outputs": [
    {
     "data": {
      "image/png": "[encoded data removed]",
      "text/plain": [
       "<matplotlib.figure.Figure at 0x2bee2115b70>"
      ]
     },
     "metadata": {},
     "output_type": "display_data"
    }
   ],
   "source": [
    "#CITY LATITUDE V HUMIDITY\n",
    "# Build a scatter plot for each data type\n",
    "plt.scatter(weather_data[\"Lat\"], weather_data[\"Humidity\"], marker=\"o\")\n",
    "\n",
    "# Incorporate the other graph properties\n",
    "plt.title(\"Hum in World Cities\")\n",
    "plt.ylabel(\"Hum\")\n",
    "plt.xlabel(\"Latitude\")\n",
    "plt.grid(True)\n",
    "\n",
    "# Save the figure\n",
    "plt.savefig(\"TemperatureInWorldCities.png\")\n",
    "\n",
    "# Show plot\n",
    "plt.show()"
   ]
  },
  {
   "cell_type": "code",
   "execution_count": 11,
   "metadata": {},
   "outputs": [
    {
     "data": {
      "image/png": "[encoded data removed]",
      "text/plain": [
       "<matplotlib.figure.Figure at 0x2bee2482828>"
      ]
     },
     "metadata": {},
     "output_type": "display_data"
    }
   ],
   "source": [
    "#CITY LATITUDE V CLOUDINESS\n",
    "# Build a scatter plot for each data type\n",
    "plt.scatter(weather_data[\"Lat\"], weather_data[\"Cloudiness\"], marker=\"o\")\n",
    "\n",
    "# Incorporate the other graph properties\n",
    "plt.title(\"Cloudiness in World Cities\")\n",
    "plt.ylabel(\"Cloudiness\")\n",
    "plt.xlabel(\"Latitude\")\n",
    "plt.grid(True)\n",
    "\n",
    "# Save the figure\n",
    "plt.savefig(\"TemperatureInWorldCities.png\")\n",
    "\n",
    "# Show plot\n",
    "plt.show()"
   ]
  },
  {
   "cell_type": "code",
   "execution_count": 12,
   "metadata": {},
   "outputs": [
    {
     "data": {
      "image/png": "[encoded data removed]",
      "text/plain": [
       "<matplotlib.figure.Figure at 0x2bee21150f0>"
      ]
     },
     "metadata": {},
     "output_type": "display_data"
    }
   ],
   "source": [
    "#CITY LATITUDE V WINDSPEED\n",
    "# Build a scatter plot for each data type\n",
    "plt.scatter(weather_data[\"Lat\"], weather_data[\"Wind Speed\"], marker=\"o\")\n",
    "\n",
    "# Incorporate the other graph properties\n",
    "plt.title(\"Wind Speed in World Cities\")\n",
    "plt.ylabel(\"Wind Speed\")\n",
    "plt.xlabel(\"Latitude\")\n",
    "plt.grid(True)\n",
    "\n",
    "# Save the figure\n",
    "plt.savefig(\"TemperatureInWorldCities.png\")\n",
    "\n",
    "# Show plot\n",
    "plt.show()"
   ]
  }
 ],
 "metadata": {
  "kernelspec": {
   "display_name": "Python [conda env:Anaconda3]",
   "language": "python",
   "name": "conda-env-Anaconda3-py"
  },
  "language_info": {
   "codemirror_mode": {
    "name": "ipython",
    "version": 3
   },
   "file_extension": ".py",
   "mimetype": "text/x-python",
   "name": "python",
   "nbconvert_exporter": "python",
   "pygments_lexer": "ipython3",
   "version": "3.6.4"
  }
 },
 "nbformat": 4,
 "nbformat_minor": 2
}
